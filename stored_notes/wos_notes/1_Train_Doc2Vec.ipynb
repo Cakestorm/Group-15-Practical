{
 "cells": [
  {
   "cell_type": "code",
   "execution_count": 61,
   "id": "2e15fd3f",
   "metadata": {},
   "outputs": [
    {
     "name": "stdout",
     "output_type": "stream",
     "text": [
      "Done.\n"
     ]
    }
   ],
   "source": [
    "# Pre-processing Notes\n",
    "import json\n",
    "\n",
    "with open('X.txt', 'r') as f:\n",
    "    for i in range(3000):\n",
    "        content = f.readline()\n",
    "        with open('Article '+str(i+1)+'.note', 'w') as f0:\n",
    "            body = {\"body\": content}\n",
    "            f0.write(json.dumps(body))\n",
    "print(\"Done.\")"
   ]
  },
  {
   "cell_type": "markdown",
   "id": "b73cf0af",
   "metadata": {},
   "source": [
    "## Doc2Vec"
   ]
  },
  {
   "cell_type": "code",
   "execution_count": 42,
   "id": "2aa30162",
   "metadata": {},
   "outputs": [],
   "source": [
    "# Training Doc2Vec\n",
    "import json\n",
    "import gensim\n",
    "from gensim.models.doc2vec import Doc2Vec, TaggedDocument"
   ]
  },
  {
   "cell_type": "code",
   "execution_count": 44,
   "id": "6b402890",
   "metadata": {},
   "outputs": [
    {
     "name": "stdout",
     "output_type": "stream",
     "text": [
      "3000\n"
     ]
    }
   ],
   "source": [
    "# Extract the body of notes and preprocess the corpus\n",
    "def read_corpus():\n",
    "    note_list = []\n",
    "    for i in range(1, 3001):\n",
    "        with open('Article '+str(i)+'.note', 'r') as f0:\n",
    "            content = f0.read()\n",
    "            body = json.loads(content)['body']\n",
    "            \n",
    "            # Preprocess the text\n",
    "            tokens = gensim.utils.simple_preprocess(body)\n",
    "            note_list.append(tokens)\n",
    "    return note_list\n",
    "\n",
    "note_list = read_corpus()\n",
    "print(len(note_list))"
   ]
  },
  {
   "cell_type": "code",
   "execution_count": 4,
   "id": "b9517da6",
   "metadata": {},
   "outputs": [
    {
     "name": "stdout",
     "output_type": "stream",
     "text": [
      "TaggedDocument<['universal', 'feature', 'of', 'the', 'replication', 'of', 'positive', 'strand', 'rna', 'viruses', 'is', 'the', 'association', 'with', 'intracellular', 'membranes', 'carnation', 'italian', 'ringspot', 'virus', 'cirv', 'replication', 'in', 'plants', 'occurs', 'in', 'vesicles', 'derived', 'from', 'the', 'mitochondrial', 'outer', 'membrane', 'the', 'product', 'encoded', 'by', 'cirv', 'orf', 'is', 'required', 'for', 'targeting', 'the', 'virus', 'replication', 'complex', 'to', 'the', 'outer', 'mitochondrial', 'membrane', 'both', 'in', 'plant', 'and', 'yeast', 'cells', 'here', 'the', 'yeast', 'saccharomyces', 'cerevisiae', 'was', 'used', 'as', 'model', 'host', 'to', 'study', 'the', 'effect', 'of', 'cirv', 'on', 'cell', 'survival', 'and', 'death', 'it', 'was', 'shown', 'that', 'does', 'not', 'promote', 'cell', 'death', 'but', 'decreases', 'cell', 'growth', 'rate', 'in', 'addition', 'changed', 'the', 'nature', 'of', 'acetic', 'acid', 'induced', 'cell', 'death', 'in', 'yeast', 'by', 'increasing', 'the', 'number', 'of', 'cells', 'dying', 'by', 'necrosis', 'with', 'concomitant', 'decrease', 'of', 'the', 'number', 'of', 'cells', 'dying', 'by', 'programmed', 'cell', 'death', 'as', 'judged', 'by', 'measurements', 'of', 'externalization', 'the', 'tight', 'association', 'of', 'to', 'membranes', 'was', 'not', 'affected', 'by', 'acetic', 'acid', 'treatment', 'thus', 'confirming', 'the', 'peculiar', 'and', 'independent', 'interaction', 'of', 'cirv', 'with', 'mitochondria', 'in', 'yeast', 'this', 'work', 'proved', 'yeast', 'as', 'an', 'invaluable', 'model', 'organism', 'to', 'study', 'both', 'the', 'mitochondrial', 'determinants', 'of', 'the', 'type', 'of', 'cell', 'death', 'in', 'response', 'to', 'stress', 'and', 'the', 'molecular', 'pathogenesis', 'of', 'rna', 'viruses', 'elsevier', 'ireland', 'ltd', 'all', 'rights', 'reserved'], [2]>\n"
     ]
    }
   ],
   "source": [
    "documents = [TaggedDocument(doc, [i]) for i, doc in enumerate(note_list)]\n",
    "print(documents[2])\n",
    "\n",
    "model = Doc2Vec(vector_size=200, min_count=2, epochs=50)"
   ]
  },
  {
   "cell_type": "code",
   "execution_count": 5,
   "id": "d80ffec0",
   "metadata": {},
   "outputs": [
    {
     "name": "stdout",
     "output_type": "stream",
     "text": [
      "Word 'replication' appeared 39 times in the training corpus.\n"
     ]
    }
   ],
   "source": [
    "# Building model's vocabulary\n",
    "model.build_vocab(documents)\n",
    "\n",
    "print(f\"Word 'replication' appeared {model.wv.get_vecattr('replication', 'count')} times in the training corpus.\")"
   ]
  },
  {
   "cell_type": "code",
   "execution_count": 6,
   "id": "e5f35028",
   "metadata": {},
   "outputs": [
    {
     "name": "stdout",
     "output_type": "stream",
     "text": [
      "Done.\n"
     ]
    }
   ],
   "source": [
    "# Training the model\n",
    "model.train(documents, total_examples=model.corpus_count, epochs=model.epochs)\n",
    "print(\"Done.\")"
   ]
  },
  {
   "cell_type": "code",
   "execution_count": 12,
   "id": "628b2c1a",
   "metadata": {},
   "outputs": [],
   "source": [
    "# Save the model\n",
    "#from gensim.test.utils import get_tmpfile\n",
    "#fname = get_tmpfile(\"Trained_Embedding_Model\")\n",
    "model.save(\"Trained_Embedding_Model\")"
   ]
  },
  {
   "cell_type": "code",
   "execution_count": 17,
   "id": "c5664d54",
   "metadata": {},
   "outputs": [
    {
     "name": "stdout",
     "output_type": "stream",
     "text": [
      "['dichloropropane', 'dcp', 'and', 'dichloromethane', 'dcm', 'are', 'possible', 'causative', 'agents', 'associated', 'with', 'the', 'development', 'of', 'in', 'employees', 'working', 'in', 'printing', 'plant', 'in', 'osaka', 'japan', 'however', 'few', 'reports', 'have', 'demonstrated', 'an', 'association', 'between', 'these', 'agents', 'and', 'in', 'rodent', 'carcinogenicity', 'studies', 'moreover', 'the', 'combined', 'effects', 'of', 'these', 'compounds', 'have', 'not', 'been', 'fully', 'elucidated', 'in', 'the', 'present', 'study', 'we', 'evaluated', 'the', 'in', 'vivo', 'mutagenicity', 'of', 'dcp', 'and', 'dcm', 'alone', 'or', 'combined', 'in', 'the', 'livers', 'of', 'gpt', 'delta', 'rats', 'six', 'week', 'old', 'male', 'gpt', 'delta', 'rats', 'were', 'treated', 'with', 'dcp', 'dcm', 'or', 'dcp', 'dcm', 'by', 'oral', 'administration', 'for', 'weeks', 'at', 'the', 'dose', 'mgkg', 'body', 'weight', 'dcp', 'and', 'mgkg', 'body', 'weight', 'dcm', 'used', 'in', 'the', 'carcinogenesis', 'study', 'performed', 'by', 'the', 'national', 'toxicology', 'program', 'in', 'vivo', 'mutagenicity', 'was', 'analyzed', 'by', 'gpt', 'mutation', 'spi', 'assays', 'in', 'the', 'livers', 'of', 'rats', 'in', 'addition', 'gene', 'and', 'protein', 'expression', 'of', 'cyp', 'and', 'gstt', 'the', 'major', 'enzymes', 'responsible', 'for', 'the', 'genotoxic', 'effects', 'of', 'dcp', 'and', 'dcm', 'were', 'analyzed', 'by', 'quantitative', 'polymerase', 'chain', 'reaction', 'and', 'western', 'blotting', 'gpt', 'and', 'spi', 'mutation', 'frequencies', 'were', 'not', 'increased', 'by', 'dcp', 'and', 'or', 'dcm', 'in', 'any', 'group', 'additionally', 'there', 'were', 'no', 'significant', 'changes', 'in', 'the', 'gene', 'and', 'protein', 'expression', 'of', 'cyp', 'and', 'gstt', 'in', 'any', 'group', 'these', 'results', 'indicated', 'that', 'dcp', 'dcm', 'and', 'dcp', 'dcm', 'had', 'no', 'significant', 'impact', 'on', 'mutagenicity', 'in', 'the', 'livers', 'of', 'gpt', 'delta', 'rats', 'under', 'our', 'experimental', 'conditions', 'copyright', 'john', 'wiley', 'sons', 'ltd']\n",
      "(200,)\n"
     ]
    }
   ],
   "source": [
    "# Now the model can output vectors\n",
    "model = Doc2Vec.load(\"Trained_Embedding_Model\")\n",
    "vector = model.infer_vector(documents[3].words)\n",
    "print(documents[3].words)\n",
    "print(vector.shape)"
   ]
  },
  {
   "cell_type": "code",
   "execution_count": 63,
   "id": "68d45d02",
   "metadata": {},
   "outputs": [
    {
     "name": "stdout",
     "output_type": "stream",
     "text": [
      "Done.\n"
     ]
    }
   ],
   "source": [
    "# Save the embeddings of existing files\n",
    "model = Doc2Vec.load(\"Trained_Embedding_Model\")\n",
    "\n",
    "for i in range(1, 3001):\n",
    "    with open('Article '+str(i)+'.note', 'r') as f:\n",
    "        content = f.read()\n",
    "        content = json.loads(content)\n",
    "        embedding = model.infer_vector(documents[i-1].words)\n",
    "        content['embeddings'] = list(embedding.astype('str'))\n",
    "    \n",
    "    with open('Article '+str(i)+'.note', 'w') as f:\n",
    "        f.write(json.dumps(content))\n",
    "print(\"Done.\")"
   ]
  },
  {
   "cell_type": "markdown",
   "id": "2d54601c",
   "metadata": {},
   "source": [
    "### Accessing the Model"
   ]
  },
  {
   "cell_type": "code",
   "execution_count": 8,
   "id": "81fefa2b",
   "metadata": {},
   "outputs": [],
   "source": [
    "# Assessing the model\n",
    "ranks = []\n",
    "second_ranks = []\n",
    "for doc_id in range(len(documents)):\n",
    "    inferred_vector = model.infer_vector(documents[doc_id].words)\n",
    "    sims = model.dv.most_similar([inferred_vector], topn=len(model.dv))\n",
    "    rank = [docid for docid, sim in sims].index(doc_id)\n",
    "    ranks.append(rank)\n",
    "\n",
    "    second_ranks.append(sims[1])"
   ]
  },
  {
   "cell_type": "code",
   "execution_count": 9,
   "id": "cca48e41",
   "metadata": {},
   "outputs": [
    {
     "name": "stdout",
     "output_type": "stream",
     "text": [
      "Counter({0: 2998, 1: 2})\n"
     ]
    }
   ],
   "source": [
    "import collections\n",
    "\n",
    "counter = collections.Counter(ranks)\n",
    "print(counter)"
   ]
  },
  {
   "cell_type": "code",
   "execution_count": 10,
   "id": "a4858a27",
   "metadata": {},
   "outputs": [
    {
     "name": "stdout",
     "output_type": "stream",
     "text": [
      "Document (2999): «ge malignancies make up significant and growing segment of newly diagnosed cancers approximately of patients who have ge cancers die within years of diagnosis which means that effective treatments for these malignancies need to be found currently targeted therapies have minimal role in this disease group intensive study of the molecular biology of ge cancers is relatively new and ongoing venture but it has already led to significant increase in our understanding of these malignancies this understanding although still limited has the potential to enhance our ability to develop targeted therapies in conjunction with the ability to identify actionable gene mutations and perform genomic profiling to predict drug resistance several cell surface growth factor receptors have been found to play prominent role in ge cancer cell signaling this discovery has led to the approval of agents within the last few years trastuzumab an anti human epidermal growth factor receptor her monoclonal antibody used in the first line treatment of her positive ge cancers and ramucirumab an anti vascular endothelial growth factor receptor vegfr monoclonal antibody that is currently used in later lines of therapy this review discusses the current state of molecular testing in ge cancers along with the known molecular biology and current and investigational treatments the development of trastuzumab and ramucirumab represents significant advance in our ability to make use of ge tumor molecular profiles as our understanding of the impact of molecular aberrations on drug effectiveness and disease outcomes increases we anticipate improved therapy for patients with ge cancers»\n",
      "\n",
      "SIMILAR/DISSIMILAR DOCS PER MODEL Doc2Vec<dm/m,d200,n5,w5,mc2,s0.001,t3>:\n",
      "\n",
      "MOST (2999, 0.9326050877571106): «ge malignancies make up significant and growing segment of newly diagnosed cancers approximately of patients who have ge cancers die within years of diagnosis which means that effective treatments for these malignancies need to be found currently targeted therapies have minimal role in this disease group intensive study of the molecular biology of ge cancers is relatively new and ongoing venture but it has already led to significant increase in our understanding of these malignancies this understanding although still limited has the potential to enhance our ability to develop targeted therapies in conjunction with the ability to identify actionable gene mutations and perform genomic profiling to predict drug resistance several cell surface growth factor receptors have been found to play prominent role in ge cancer cell signaling this discovery has led to the approval of agents within the last few years trastuzumab an anti human epidermal growth factor receptor her monoclonal antibody used in the first line treatment of her positive ge cancers and ramucirumab an anti vascular endothelial growth factor receptor vegfr monoclonal antibody that is currently used in later lines of therapy this review discusses the current state of molecular testing in ge cancers along with the known molecular biology and current and investigational treatments the development of trastuzumab and ramucirumab represents significant advance in our ability to make use of ge tumor molecular profiles as our understanding of the impact of molecular aberrations on drug effectiveness and disease outcomes increases we anticipate improved therapy for patients with ge cancers»\n",
      "\n",
      "SECOND-MOST (2743, 0.4994414746761322): «esophageal cancer ec is highly malignant tumor and the overall survival rate remains very low traditional treatment is not sufficiently effective and thus there is an urgent need for new and effective treatments the advances in cancer immunotherapy have changed this situation because this type of therapy has significant potential to eliminate tumors with little damage to normal tissue this treatment primarily aims to enhance the ability of the immune system to eliminate tumors and prevent tumor immune escape which is associated with immune surveillance this review summarizes current cancer therapeutic strategies and immunotherapy studies to demonstrate the potential of immunotherapy for the treatment of ec»\n",
      "\n",
      "MEDIAN (1972, 0.17060618102550507): «rabbit cells and models are frequently used in pharmacological experiments and toxicity tests and are particularly useful for corneal transplant experiments here we obtained corneal endothelial cell line from normal rabbit corneal endothelium that had acquired infinite proliferative potential without requiring gene transfer these infinitely proliferative rabbit corneal endothelial cells ircecs could be cultured for generations and exhibited greater ability to proliferate than did normal rabbit corneal endothelial cells rcecs cultivated by conventional methods the results of reverse transcriptase polymerase chain reaction rt pcr and immunostaining analyses revealed that the expression profiles of corneal endothelial markers such as collagen type viii and na atpase were similar to those of rcecs and in vivo corneal endothelium scanning electron microscopy showed that many microvilli were present on the surface of the cells and that the ultrastructure was maintained in addition we verified that the ircecs had similar levels of pump function as did rcecs using an ussing chamber system the results of soft agar colony formation assay suggested that the ircecs were not tumourigenic taken together our results demonstrated that the ircecs exhibited gene expression profiles and properties that were equivalent to those of native rabbit corneal endothelium making these cells useful for corneal endothelial research studies copyright john wiley sons ltd»\n",
      "\n",
      "LEAST (2960, -0.09327980875968933): «this paper pays attention to predicting the nonlinear bending behaviors of functionally graded materials fgm infinite cylindrical shallow shells with two parameter elastic foundation by using two step perturbation method the shells are subjected to uniform temperature rise and temperature dependency of the constituents is also taken into account two ends of the shells are assumed to be clamped or pinned and in plane boundary conditions are immovable the governing equations are derived based on physical neutral surface concept and high order shear deformation theory the explicit expressions between the transverse load and the deflection are obtained by perturbation method in numerical examples some comparisons are shown to verify the correctness of the present research and solution method it can be concluded that fgm cylindrical shallow shells subjected to uniform bending loadings will bring about snap through buckling and jump changes and the foundation can enhance the stability of the shells elsevier ltd all rights reserved»\n",
      "\n"
     ]
    }
   ],
   "source": [
    "print('Document ({}): «{}»\\n'.format(doc_id, ' '.join(documents[doc_id].words)))\n",
    "print(u'SIMILAR/DISSIMILAR DOCS PER MODEL %s:\\n' % model)\n",
    "for label, index in [('MOST', 0), ('SECOND-MOST', 1), ('MEDIAN', len(sims)//2), ('LEAST', len(sims) - 1)]:\n",
    "    print(u'%s %s: «%s»\\n' % (label, sims[index], ' '.join(documents[sims[index][0]].words)))\n"
   ]
  },
  {
   "cell_type": "code",
   "execution_count": 67,
   "id": "5b1738b2",
   "metadata": {},
   "outputs": [
    {
     "name": "stdout",
     "output_type": "stream",
     "text": [
      "[ 1.0962925e+00 -9.6594751e-01  1.2834587e+00 -9.2835647e-01\n",
      "  5.8798742e-01 -5.8278233e-01  1.1744876e+00  8.2435536e-01\n",
      " -2.4016068e+00 -9.8848581e-01  5.3110230e-01 -3.3889902e-01\n",
      " -4.5374417e-01  1.0891911e+00 -1.4333184e+00  1.1973546e+00\n",
      "  5.2981710e-01  4.4473967e-01 -1.9779749e+00 -8.3651596e-01\n",
      " -3.4122637e-01 -1.5228660e-03 -7.0848715e-01 -1.2834401e+00\n",
      "  3.8667649e-01 -8.8100207e-01 -4.6317659e-02 -5.8532572e-01\n",
      " -5.3139591e-01 -5.6672210e-01  1.1643296e+00 -1.5463480e+00\n",
      " -2.9876742e-01 -1.0017741e+00  3.0968571e-01  8.6258876e-01\n",
      " -2.5702608e-01  5.1764834e-01  2.7180862e-01 -2.9486269e-01\n",
      "  3.1294107e-01 -5.2312344e-01  6.2677115e-01 -2.4262168e+00\n",
      "  9.0401977e-01 -2.0781193e+00 -7.7862181e-02 -7.8902155e-01\n",
      " -7.2652549e-01  3.6717910e-01  1.1016653e+00 -7.3781401e-01\n",
      "  1.1475338e+00 -7.0368791e-01  1.2269665e+00  6.2972665e-01\n",
      " -3.3473402e-01 -3.3673710e-01 -1.1270872e+00 -6.2429512e-01\n",
      "  4.6336174e-01  1.4565576e+00 -1.4454970e-01 -1.5094818e-01\n",
      " -1.4071305e+00  9.0845919e-01  9.6559161e-01  9.9058706e-01\n",
      "  8.7261760e-01 -4.9536616e-02 -2.0837026e+00 -9.8804599e-01\n",
      "  4.2163733e-01  4.5707214e-01 -6.1529571e-01 -4.7539771e-02\n",
      " -1.1243284e+00 -2.4233787e+00 -8.3749580e-01  9.1055483e-01\n",
      " -3.8613907e-01 -1.0139931e+00  2.6721317e-01  2.3705883e+00\n",
      " -1.7619008e+00  9.9966604e-01 -1.5938344e+00  3.7749976e-01\n",
      " -1.9020022e-01 -5.3697008e-01  1.6310482e+00  3.3413070e-01\n",
      "  1.4683443e+00  1.8482617e+00  9.7978598e-01  1.7085466e+00\n",
      "  7.7491993e-01  3.4657845e-01  4.8537454e-01  1.8497097e-01\n",
      " -1.0592730e+00 -5.9027296e-01  1.7366332e-01  1.3698838e+00\n",
      " -4.9439609e-01 -3.9167193e-01  4.7345358e-01  7.7007955e-01\n",
      "  1.4120955e+00 -7.8709507e-01 -1.8453929e+00 -3.9625683e-01\n",
      " -1.0358565e+00  5.9895545e-01  1.6439787e+00 -5.0447309e-01\n",
      " -1.4604486e-03 -1.1157121e-01 -1.1651905e+00 -2.7268102e-02\n",
      " -2.2935830e-01 -4.8810214e-01 -9.8298424e-01 -5.3868526e-01\n",
      "  1.0465714e+00  9.7617400e-01  9.5700765e-01 -1.2235578e+00\n",
      "  1.2290465e+00  4.1830033e-01  7.4535769e-01  6.1897233e-02\n",
      " -1.0412761e+00  9.7999012e-01 -1.0038608e+00  1.6047688e+00\n",
      " -1.1775913e+00 -4.4512865e-01 -1.0071639e+00 -6.5752798e-01\n",
      "  2.0324249e+00 -7.0564836e-01 -9.9947244e-01 -5.7779640e-01\n",
      " -3.7612459e-01 -1.5834714e+00 -1.7460004e+00  2.9827565e-01\n",
      "  1.6316202e-01  4.0137917e-01 -1.1546252e+00  6.3876987e-01\n",
      "  4.9013907e-01 -5.4884446e-01 -1.0227610e+00  1.3266569e+00\n",
      " -1.7989941e+00 -1.7763994e+00  1.4613332e-01  8.7194461e-01\n",
      "  1.4045225e-01  1.5707889e-01 -1.1370302e+00 -2.0040348e-01\n",
      "  1.9697340e+00 -8.6324376e-01  9.6906972e-01 -9.2820382e-01\n",
      "  3.6864197e-01  5.7832199e-01  2.9679504e-01 -2.6868714e-02\n",
      "  9.4857514e-01  6.2867671e-01 -3.6016542e-01 -1.6156939e+00\n",
      " -9.8584700e-01 -3.0777422e-01 -1.6542719e-01  4.1043955e-01\n",
      " -5.0703979e-01  1.4653952e+00  6.2316006e-01  4.0223941e-01\n",
      " -5.5452026e-02  9.7258252e-01  3.8036194e-01 -4.5951805e-03\n",
      "  7.8673857e-01  6.8076116e-01  3.6735609e-01 -1.6177708e-01\n",
      "  1.2430913e+00  1.5006427e-01  1.6843738e-01  6.8682253e-01\n",
      "  4.9402776e-01 -8.7548596e-01  1.3203925e+00 -1.3529552e+00]\n",
      "Test Document (736): «fearful faces both capture our attention and hold it however little is known about the time course for the capture and hold of spatial attention by fearful and other emotional faces in three dot probe studies we examined this time course experiments and used fearful and neutral faces in experiment dot probe targets occurred and ms post face onset and in experiment dot probe targets occurred and ms post face onset in experiment for both and ms conditions reaction times were fastest for congruent trials and slowest for incongruent trials with reaction times for baseline trials falling between the two the same pattern was found for the and ms conditions in experiment for the later time points in both experiments there were no significant differences between conditions to examine whether this time course is unique to fearful faces third dot probe experiment using time points identical to experiment was conducted with happy and neutral faces the results from experiment suggest that happy faces captured and held attention in the and ms conditions together the results indicate that attention is captured and held by fearful faces at times earlier than approximately ms while happy faces also captured and held attention but on slightly different time course from to ms»\n",
      "\n",
      "SIMILAR/DISSIMILAR DOCS PER MODEL Doc2Vec<dm/m,d200,n5,w5,mc2,s0.001,t3>:\n",
      "\n",
      "MOST (736, 0.9409945607185364): «fearful faces both capture our attention and hold it however little is known about the time course for the capture and hold of spatial attention by fearful and other emotional faces in three dot probe studies we examined this time course experiments and used fearful and neutral faces in experiment dot probe targets occurred and ms post face onset and in experiment dot probe targets occurred and ms post face onset in experiment for both and ms conditions reaction times were fastest for congruent trials and slowest for incongruent trials with reaction times for baseline trials falling between the two the same pattern was found for the and ms conditions in experiment for the later time points in both experiments there were no significant differences between conditions to examine whether this time course is unique to fearful faces third dot probe experiment using time points identical to experiment was conducted with happy and neutral faces the results from experiment suggest that happy faces captured and held attention in the and ms conditions together the results indicate that attention is captured and held by fearful faces at times earlier than approximately ms while happy faces also captured and held attention but on slightly different time course from to ms»\n",
      "\n",
      "MEDIAN (2918, 0.20358024537563324): «catalytic oxidation at ambient temperature has drawn wide attention as new promising method of air cleaning converting hazardous materials into non hazardous ones however limited information is available regarding catalytic filter performance characteristics under real operating conditions especially on service efficiency and byproducts also no practical scale up method evidence for filter performance evaluation is currently available to scale up laboratory results to real application conditions these limitations and knowledge gaps prevent building owners designers from adopting this new promising technique in their commercial industrial applications the present study conducted experiments from small scale to full scale chamber tests which challenged developed catalytic filter under realistic conditions formaldehyde was selected for approach demonstration due to its indoor ubiquitousness and criticality for human health even at low levels results showed that the competition level for reaction sites in filter media had crucial role in the performance for formaldehyde abatement high initial under no competing pollutants to typical stable level depending on the coexistence of other pollutants and moisture in the air that the employment of this type of filter might generate byproducts opposite to previous literature reports and that small scale column tests represented good indication for large scale filter performance as practical screening method elsevier all rights reserved»\n",
      "\n",
      "LEAST (339, -0.10737206041812897): «background limited accessibility to providers may delay appropriate control of asthma exacerbations the objective of our study is to estimate the contributors to the hospital emergency department ed visits among adults with asthma focusing on the availability of healthcare providers methods we conducted pooled cross sectional analysis using the asthma call back survey linked with area health resource files we employed multivariable logistic regression with dichotomous outcomes of hospitalization and ed visits key covariates were the availability of county level healthcare provider variables per persons such as the number of lung disease specialists including pulmonary care specialists and allergy and immunology specialists the number of hospitals the number of safety net facilities including rural health centers rhcs and federally qualified health centers fqhcs and the number of primary care physicians pcps results among adults proportions of hospital visits and ed visits were and respectively an additional rhc reduced by the odds of having an ed visit odds ratio or patients with cost barriers to seeing pcp were or more likely to have hospital visit than those without in addition patients with cost barriers to seeing specialist were or and or more likely to have hospital visit and ed visit respectively than those without conclusions hospital and ed visits among adults with asthma are partially related to the availability of providers and more related to financial barriers therefore financial support for the vulnerable asthma population might be target for policy makers interested in reducing and ed visits»\n",
      "\n"
     ]
    }
   ],
   "source": [
    "# Test the model\n",
    "import random\n",
    "\n",
    "# Pick a random document from the test corpus and infer a vector from the model\n",
    "doc_id = random.randint(0, 3000)\n",
    "inferred_vector = model.infer_vector(note_list[doc_id])\n",
    "sims = model.dv.most_similar([inferred_vector], topn=len(model.dv))\n",
    "\n",
    "# Compare and print the most/median/least similar documents from the train corpus\n",
    "print('Test Document ({}): «{}»\\n'.format(doc_id, ' '.join(note_list[doc_id])))\n",
    "print(u'SIMILAR/DISSIMILAR DOCS PER MODEL %s:\\n' % model)\n",
    "for label, index in [('MOST', 0), ('MEDIAN', len(sims)//2), ('LEAST', len(sims) - 1)]:\n",
    "    print(u'%s %s: «%s»\\n' % (label, sims[index], ' '.join(documents[sims[index][0]].words)))\n"
   ]
  },
  {
   "cell_type": "code",
   "execution_count": null,
   "id": "ce75d036",
   "metadata": {},
   "outputs": [],
   "source": [
    "# Function to extract linked notes given a given notes\n",
    "#\n",
    "# Params:\n",
    "# @current_note: String.  The path to the new note that I intend to find linked notes \n",
    "# @existing_notes: List[String]. A list of the paths to all existing notes, among which\n",
    "#                  relevant notes are being searched.\n",
    "#\n",
    "# Return: List[String]. A list of paths to the linked notes.\n",
    "def get_linked_notes(current_note : String, existing_notes : List[String]) -> List[String] = {\n",
    "    #… I will fill out here\n",
    "    return aList_of_linked_notes\n",
    "}\n",
    "\n"
   ]
  }
 ],
 "metadata": {
  "kernelspec": {
   "display_name": "env",
   "language": "python",
   "name": "python3"
  },
  "language_info": {
   "codemirror_mode": {
    "name": "ipython",
    "version": 3
   },
   "file_extension": ".py",
   "mimetype": "text/x-python",
   "name": "python",
   "nbconvert_exporter": "python",
   "pygments_lexer": "ipython3",
   "version": "3.11.5"
  }
 },
 "nbformat": 4,
 "nbformat_minor": 5
}
