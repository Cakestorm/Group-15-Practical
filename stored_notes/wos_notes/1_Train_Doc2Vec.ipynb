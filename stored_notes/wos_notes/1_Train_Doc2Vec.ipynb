{
 "cells": [
  {
   "cell_type": "code",
   "execution_count": 9,
   "id": "2e15fd3f",
   "metadata": {},
   "outputs": [
    {
     "name": "stdout",
     "output_type": "stream",
     "text": [
      "Done.\n"
     ]
    }
   ],
   "source": [
    "# Pre-processing Notes\n",
    "import json\n",
    "import time\n",
    "\n",
    "with open('X.txt', 'r') as f:\n",
    "    for i in range(3000):\n",
    "        content = f.readline()\n",
    "        with open('Article '+str(i+1)+'.note', 'w') as f0:\n",
    "            schema = {}\n",
    "            schema[\"title\"] = 'Article '+str(i+1)\n",
    "            schema[\"body\"] = {\"ops\": [{'insert':content}]}\n",
    "            schema[\"text\"] = content\n",
    "            schema[\"updatedAt\"] = int(time.time())\n",
    "            f0.write(json.dumps(schema))\n",
    "print(\"Done.\")"
   ]
  },
  {
   "cell_type": "markdown",
   "id": "b73cf0af",
   "metadata": {},
   "source": [
    "## Doc2Vec"
   ]
  },
  {
   "cell_type": "code",
   "execution_count": 23,
   "id": "2aa30162",
   "metadata": {},
   "outputs": [],
   "source": [
    "# Training Doc2Vec\n",
    "import json\n",
    "import gensim\n",
    "from gensim.models.doc2vec import Doc2Vec, TaggedDocument"
   ]
  },
  {
   "cell_type": "code",
   "execution_count": 25,
   "id": "6b402890",
   "metadata": {},
   "outputs": [
    {
     "name": "stdout",
     "output_type": "stream",
     "text": [
      "3036\n"
     ]
    }
   ],
   "source": [
    "# Extract the body of notes and preprocess the corpus\n",
    "from os import listdir\n",
    "from os.path import isfile, join\n",
    "\n",
    "def is_note_file(path):\n",
    "    if not isfile(path):\n",
    "        return False\n",
    "    if path.split('.')[-1] != 'note':\n",
    "        return False\n",
    "    return True\n",
    "\n",
    "def read_corpus():\n",
    "    note_list = []\n",
    "    list_dir = listdir()\n",
    "    pth_list=[file for file in list_dir if is_note_file(file)]\n",
    "        \n",
    "    for path in pth_list:\n",
    "        with open(path, 'r') as f0:\n",
    "            content = f0.read()\n",
    "            body = json.loads(content)['text']\n",
    "            \n",
    "            # Preprocess the text\n",
    "            tokens = gensim.utils.simple_preprocess(body)\n",
    "            note_list.append(tokens)\n",
    "    return note_list\n",
    "\n",
    "note_list = read_corpus()\n",
    "print(len(note_list))"
   ]
  },
  {
   "cell_type": "code",
   "execution_count": 26,
   "id": "b9517da6",
   "metadata": {},
   "outputs": [
    {
     "name": "stdout",
     "output_type": "stream",
     "text": [
      "TaggedDocument<['in', 'this', 'paper', 'novel', 'high', 'gain', 'op', 'amp', 'design', 'is', 'presented', 'this', 'proposed', 'circuit', 'also', 'exhibits', 'high', 'linearity', 'the', 'architecture', 'of', 'the', 'op', 'amp', 'presented', 'in', 'this', 'paper', 'is', 'based', 'on', 'cross', 'coupled', 'differential', 'pair', 'and', 'positive', 'feedback', 'the', 'proposed', 'op', 'amp', 'is', 'designed', 'in', 'mu', 'cmos', 'process', 'using', 'umc', 'nm', 'library', 'in', 'cadence', 'virtuoso', 'analog', 'design', 'environment', 'the', 'simulation', 'of', 'proposed', 'circuit', 'results', 'in', 'db', 'gain', 'mhz', 'ugb', 'and', 'degree', 'phase', 'margin', 'while', 'dissipating', 'mu', 'power', 'the', 'thd', 'analysis', 'of', 'the', 'circuit', 'shows', 'maximum', 'distortion', 'of', 'db', 'at', 'output', 'peak', 'to', 'peak', 'voltage', 'and', 'khz', 'frequency'], [2]>\n"
     ]
    }
   ],
   "source": [
    "documents = [TaggedDocument(doc, [i]) for i, doc in enumerate(note_list)]\n",
    "print(documents[2])\n",
    "\n",
    "model = Doc2Vec(vector_size=200, min_count=2, epochs=50)"
   ]
  },
  {
   "cell_type": "code",
   "execution_count": 28,
   "id": "d80ffec0",
   "metadata": {},
   "outputs": [
    {
     "name": "stdout",
     "output_type": "stream",
     "text": [
      "Word 'replication' appeared 164 times in the training corpus.\n"
     ]
    }
   ],
   "source": [
    "# Building model's vocabulary\n",
    "model.build_vocab(documents)\n",
    "\n",
    "print(f\"Word 'replication' appeared {model.wv.get_vecattr('algorithm', 'count')} times in the training corpus.\")"
   ]
  },
  {
   "cell_type": "code",
   "execution_count": 29,
   "id": "e5f35028",
   "metadata": {},
   "outputs": [
    {
     "name": "stdout",
     "output_type": "stream",
     "text": [
      "Done.\n"
     ]
    }
   ],
   "source": [
    "# Training the model\n",
    "model.train(documents, total_examples=model.corpus_count, epochs=model.epochs)\n",
    "print(\"Done.\")"
   ]
  },
  {
   "cell_type": "code",
   "execution_count": 30,
   "id": "628b2c1a",
   "metadata": {},
   "outputs": [],
   "source": [
    "# Save the model\n",
    "#from gensim.test.utils import get_tmpfile\n",
    "#fname = get_tmpfile(\"Trained_Embedding_Model\")\n",
    "model.save(\"Trained_Embedding_Model\")"
   ]
  },
  {
   "cell_type": "code",
   "execution_count": 31,
   "id": "c5664d54",
   "metadata": {},
   "outputs": [
    {
     "name": "stdout",
     "output_type": "stream",
     "text": [
      "['objective', 'we', 'investigated', 'the', 'expression', 'of', 'annexin', 'anxa', 'in', 'human', 'cca', 'cell', 'line', 'and', 'its', 'effect', 'on', 'proliferation', 'migration', 'and', 'apoptosis', 'of', 'human', 'cca', 'cells', 'materials', 'and', 'methods', 'expression', 'of', 'anxa', 'was', 'detected', 'by', 'fluorescent', 'quantitative', 'reverse', 'transcriptase', 'polymerase', 'chain', 'reaction', 'qrt', 'pcr', 'and', 'western', 'blotting', 'method', 'in', 'human', 'cca', 'cell', 'lines', 'qbc', 'and', 'rbe', 'shrna', 'plasmids', 'for', 'anxa', 'silencing', 'anxa', 'sh', 'anxa', 'sh', 'anxa', 'sh', 'and', 'negative', 'control', 'plasmid', 'were', 'constructed', 'to', 'infect', 'qbc', 'cells', 'the', 'infection', 'efficiency', 'expression', 'of', 'anxa', 'apoptosis', 'and', 'cell', 'cycle', 'of', 'qbc', 'cell', 'were', 'measured', 'separately', 'results', 'the', 'expression', 'of', 'anxa', 'in', 'qbc', 'cell', 'was', 'significantly', 'higher', 'than', 'rbe', 'cell', 'expressed', 'anxa', 'protein', 'in', 'the', 'qbc', 'kd', 'cell', 'qbc', 'cell', 'treated', 'by', 'rnai', 'was', 'significantly', 'lower', 'than', 'qbc', 'bc', 'qbc', 'cell', 'and', 'qbc', 'nc', 'cells', 'qbc', 'cell', 'treated', 'by', 'scramble', 'plasmid', 'the', 'ratio', 'of', 'phase', 'cells', 'and', 'apoptosis', 'rate', 'increased', 'in', 'qbc', 'kd', 'cell', 'the', 'proliferation', 'activity', 'and', 'invasion', 'ability', 'decreased', 'in', 'qbc', 'kd', 'cell', 'compared', 'with', 'qbc', 'nc', 'and', 'qbc', 'bc', 'cells', 'conclusions', 'anxa', 'play', 'important', 'role', 'in', 'the', 'migration', 'and', 'apoptosis', 'of', 'cca', 'cells', 'inhibiting', 'the', 'expression', 'of', 'anxa', 'significantly', 'reduce', 'the', 'proliferation', 'migration', 'and', 'invasion', 'ability', 'of', 'qbc', 'cells', 'and', 'increase', 'the', 'apoptosis', 'of', 'qbc', 'cells']\n",
      "(200,)\n"
     ]
    }
   ],
   "source": [
    "# Now the model can output vectors\n",
    "model = Doc2Vec.load(\"Trained_Embedding_Model\")\n",
    "vector = model.infer_vector(documents[3].words)\n",
    "print(documents[3].words)\n",
    "print(vector.shape)"
   ]
  },
  {
   "cell_type": "code",
   "execution_count": 32,
   "id": "68d45d02",
   "metadata": {},
   "outputs": [
    {
     "name": "stdout",
     "output_type": "stream",
     "text": [
      "Done.\n"
     ]
    }
   ],
   "source": [
    "# Save the embeddings of existing files\n",
    "model = Doc2Vec.load(\"Trained_Embedding_Model\")\n",
    "\n",
    "list_dir = listdir()\n",
    "pth_list=[file for file in list_dir if is_note_file(file)]\n",
    "        \n",
    "for path in pth_list:\n",
    "    with open(path, 'r') as f:\n",
    "        content = f.read()\n",
    "        content = json.loads(content)\n",
    "        embedding = model.infer_vector(documents[i-1].words)\n",
    "        content['embeddings'] = list(embedding.astype('str'))\n",
    "    \n",
    "    with open(path, 'w') as f:\n",
    "        f.write(json.dumps(content))\n",
    "print(\"Done.\")"
   ]
  },
  {
   "cell_type": "markdown",
   "id": "2d54601c",
   "metadata": {},
   "source": [
    "### Accessing the Model"
   ]
  },
  {
   "cell_type": "code",
   "execution_count": 12,
   "id": "81fefa2b",
   "metadata": {},
   "outputs": [],
   "source": [
    "# Assessing the model\n",
    "ranks = []\n",
    "second_ranks = []\n",
    "for doc_id in range(len(documents)):\n",
    "    inferred_vector = model.infer_vector(documents[doc_id].words)\n",
    "    sims = model.dv.most_similar([inferred_vector], topn=len(model.dv))\n",
    "    rank = [docid for docid, sim in sims].index(doc_id)\n",
    "    ranks.append(rank)\n",
    "\n",
    "    second_ranks.append(sims[1])"
   ]
  },
  {
   "cell_type": "code",
   "execution_count": 13,
   "id": "cca48e41",
   "metadata": {},
   "outputs": [
    {
     "name": "stdout",
     "output_type": "stream",
     "text": [
      "Counter({0: 3000})\n"
     ]
    }
   ],
   "source": [
    "import collections\n",
    "\n",
    "counter = collections.Counter(ranks)\n",
    "print(counter)"
   ]
  },
  {
   "cell_type": "code",
   "execution_count": 14,
   "id": "a4858a27",
   "metadata": {},
   "outputs": [
    {
     "name": "stdout",
     "output_type": "stream",
     "text": [
      "Document (2999): «ge malignancies make up significant and growing segment of newly diagnosed cancers approximately of patients who have ge cancers die within years of diagnosis which means that effective treatments for these malignancies need to be found currently targeted therapies have minimal role in this disease group intensive study of the molecular biology of ge cancers is relatively new and ongoing venture but it has already led to significant increase in our understanding of these malignancies this understanding although still limited has the potential to enhance our ability to develop targeted therapies in conjunction with the ability to identify actionable gene mutations and perform genomic profiling to predict drug resistance several cell surface growth factor receptors have been found to play prominent role in ge cancer cell signaling this discovery has led to the approval of agents within the last few years trastuzumab an anti human epidermal growth factor receptor her monoclonal antibody used in the first line treatment of her positive ge cancers and ramucirumab an anti vascular endothelial growth factor receptor vegfr monoclonal antibody that is currently used in later lines of therapy this review discusses the current state of molecular testing in ge cancers along with the known molecular biology and current and investigational treatments the development of trastuzumab and ramucirumab represents significant advance in our ability to make use of ge tumor molecular profiles as our understanding of the impact of molecular aberrations on drug effectiveness and disease outcomes increases we anticipate improved therapy for patients with ge cancers»\n",
      "\n",
      "SIMILAR/DISSIMILAR DOCS PER MODEL Doc2Vec<dm/m,d200,n5,w5,mc2,s0.001,t3>:\n",
      "\n",
      "MOST (2999, 0.9329856634140015): «ge malignancies make up significant and growing segment of newly diagnosed cancers approximately of patients who have ge cancers die within years of diagnosis which means that effective treatments for these malignancies need to be found currently targeted therapies have minimal role in this disease group intensive study of the molecular biology of ge cancers is relatively new and ongoing venture but it has already led to significant increase in our understanding of these malignancies this understanding although still limited has the potential to enhance our ability to develop targeted therapies in conjunction with the ability to identify actionable gene mutations and perform genomic profiling to predict drug resistance several cell surface growth factor receptors have been found to play prominent role in ge cancer cell signaling this discovery has led to the approval of agents within the last few years trastuzumab an anti human epidermal growth factor receptor her monoclonal antibody used in the first line treatment of her positive ge cancers and ramucirumab an anti vascular endothelial growth factor receptor vegfr monoclonal antibody that is currently used in later lines of therapy this review discusses the current state of molecular testing in ge cancers along with the known molecular biology and current and investigational treatments the development of trastuzumab and ramucirumab represents significant advance in our ability to make use of ge tumor molecular profiles as our understanding of the impact of molecular aberrations on drug effectiveness and disease outcomes increases we anticipate improved therapy for patients with ge cancers»\n",
      "\n",
      "SECOND-MOST (952, 0.5341055393218994): «precision medicine is new strategy that aims at preventing and treating human diseases by focusing on individual variations in people genes environment and lifestyle precision medicine has been used for cancer diagnosis and treatment and shows evident clinical efficacy rapid developments in molecular biology genetics and sequencing technologies as well as computational technology has enabled the establishment of big data such as the human genome project which provides basis for precision medicine head and neck squamous cell carcinoma hnscc is an aggressive cancer with high incidence rate and low survival rate current therapies are often aggressive and carry considerable side effects much research now indicates that precision medicine can be used for hnscc and may achieve improved results from this perspective we present an overview of the current status potential strategies and challenges of precision medicine in hnscc we focus on targeted therapy based on cell the surface signaling receptors epidermal growth factor receptor egfr vascular endothelial growth factor vegf and human epidermal growth factor receptor her and on the pi akt mtor jak stat and ras raf mek erk cellular signaling pathways gene therapy for the treatment of hnscc is also discussed»\n",
      "\n",
      "MEDIAN (1311, 0.172877237200737): «capripoxviruses capvs consisting of sheeppox virus spv goatpox virus gpv and lumpy skin disease virus lsdv species cause economically significant diseases in sheep goats and cattle respectively quantitative real time polymerase chain reaction qpcr assays are routinely used for rapid detection of capvs in surveillance and outbreak management programs we further modified and optimized previously published capv qpcr assays referred to as the balinsky and bowden assays by changing commercial pcr reagents used in the tests the modified assays displayed analytical specificity and showed no apparent changes in analytical sensitivities for detection of capvs compared with the original assays diagnostic sensitivities assessed using clinical reference samples from experimentally infected sheep goats and cattle improved from to for the modified balinsky assay and from to for the modified bowden assay the modified qpcr assays were multiplexed for detection of beta actin as an indicator for potential false negative results the multiplex modified qpcr assays exhibited the same diagnostic sensitivities as the singleplex assays suggesting their utility in the detection of capvs»\n",
      "\n",
      "LEAST (2960, -0.13256119191646576): «this paper pays attention to predicting the nonlinear bending behaviors of functionally graded materials fgm infinite cylindrical shallow shells with two parameter elastic foundation by using two step perturbation method the shells are subjected to uniform temperature rise and temperature dependency of the constituents is also taken into account two ends of the shells are assumed to be clamped or pinned and in plane boundary conditions are immovable the governing equations are derived based on physical neutral surface concept and high order shear deformation theory the explicit expressions between the transverse load and the deflection are obtained by perturbation method in numerical examples some comparisons are shown to verify the correctness of the present research and solution method it can be concluded that fgm cylindrical shallow shells subjected to uniform bending loadings will bring about snap through buckling and jump changes and the foundation can enhance the stability of the shells elsevier ltd all rights reserved»\n",
      "\n"
     ]
    }
   ],
   "source": [
    "print('Document ({}): «{}»\\n'.format(doc_id, ' '.join(documents[doc_id].words)))\n",
    "print(u'SIMILAR/DISSIMILAR DOCS PER MODEL %s:\\n' % model)\n",
    "for label, index in [('MOST', 0), ('SECOND-MOST', 1), ('MEDIAN', len(sims)//2), ('LEAST', len(sims) - 1)]:\n",
    "    print(u'%s %s: «%s»\\n' % (label, sims[index], ' '.join(documents[sims[index][0]].words)))\n"
   ]
  },
  {
   "cell_type": "code",
   "execution_count": 15,
   "id": "5b1738b2",
   "metadata": {},
   "outputs": [
    {
     "name": "stdout",
     "output_type": "stream",
     "text": [
      "Test Document (1367): «the control of rhipicephalus microplus is essential to prevent cattle discomfort and economic losses however increased resistance and acaricides inefficiency lead producers to adopt strategies that could result in the accumulation of chemical residues in meat and milk with possibilities of poisoning in animals and people this scenario demonstrates the necessity of research into the identification of novel effective and environmentally safe therapeutic options for cattle tick control the objectives of this study were to develop and assess the efficacy of microplus biotherapic and of eugenol for the control of microplus in artificially infested calves eighteen male month old holstein calves were divided into three groups of six animals in group the animals did not receive medication control group in group the animals received ml of microplus biotherapic at dilution ch centesimal hahnemannian orally administered twice daily and in group they received single application of eugenol in the pour on formulation the median efficacy for biotherapy and eugenol was respectively and however upon analyzing reproductive efficiency it is noteworthy that the biotherapic had efficiency and was superior to the action of eugenol after days of treatment the ultrastructural study provided information about the effects of microplus biotherapic on the ovaries of engorged females and showed disorganization in the deposition of the oocyte exochorion the results suggest hatchability inhibition of larvae interference in microplus reproduction and future possibilities for eco friendly control of microplus with biotherapic ch»\n",
      "\n",
      "SIMILAR/DISSIMILAR DOCS PER MODEL Doc2Vec<dm/m,d200,n5,w5,mc2,s0.001,t3>:\n",
      "\n",
      "MOST (1367, 0.9566897749900818): «the control of rhipicephalus microplus is essential to prevent cattle discomfort and economic losses however increased resistance and acaricides inefficiency lead producers to adopt strategies that could result in the accumulation of chemical residues in meat and milk with possibilities of poisoning in animals and people this scenario demonstrates the necessity of research into the identification of novel effective and environmentally safe therapeutic options for cattle tick control the objectives of this study were to develop and assess the efficacy of microplus biotherapic and of eugenol for the control of microplus in artificially infested calves eighteen male month old holstein calves were divided into three groups of six animals in group the animals did not receive medication control group in group the animals received ml of microplus biotherapic at dilution ch centesimal hahnemannian orally administered twice daily and in group they received single application of eugenol in the pour on formulation the median efficacy for biotherapy and eugenol was respectively and however upon analyzing reproductive efficiency it is noteworthy that the biotherapic had efficiency and was superior to the action of eugenol after days of treatment the ultrastructural study provided information about the effects of microplus biotherapic on the ovaries of engorged females and showed disorganization in the deposition of the oocyte exochorion the results suggest hatchability inhibition of larvae interference in microplus reproduction and future possibilities for eco friendly control of microplus with biotherapic ch»\n",
      "\n",
      "MEDIAN (1734, 0.18195290863513947): «introduction there are now more than hospitalists working in the united states limited empiric research has been performed to characterize clinical excellence in hospital medicine we conducted qualitative study to discover elements judged to be most pertinent to excellence in clinical care delivered by hospitalists methods the chiefs of hospital medicine at five hospitals were asked to identify their clinically best hospitalists data collection in the form of one on one interviews was directed by an interview guide interviews were transcribed verbatim and the informants perspectives were analyzed using editing analysis to identify themes results total of hospitalists were interviewed the mean age of the physicians was years were women and were non white seven themes emerged that related to clinical excellence in hospital medicine communicating effectively appreciating partnerships and collaboration having superior clinical judgment being organized and efficient connecting with patients committing to continued growth and development and being professional and humanistic discussion this qualitative study describes how respected hospitalists think about excellence in clinical care in hospital medicine their perspectives can be used to guide continuing medical education so that offered programs can pay attention to enhancing the skills of learners so they can develop towards excellence rather than using only competence as the desired target objective»\n",
      "\n",
      "LEAST (910, -0.11933571845293045): «we propose simulation based analog equivalence boundary search methodology for high level simulink models and their low level hspice counterparts the equivalence of high and low level designs is determined by comparing set of predefined performance parameters measured during the simulation of both models our methodology investigates the search space to obtain boundary of input parameters where both models have equivalent performance parameters we build an optimization problem where the error percentage between the performance parameters of both models being less than specified threshold is defined as success criteria in this problem input parameters are determined by utilizing evolutionary computation at the end of the optimization the border of equivalence for the models is found for input parameters satisfying the success criteria we demonstrate the validity of our approach on three designs an inverter an operational amplifier and buck converter where our approach proves to be an efficient tool in finding an equivalence boundary of analog circuits and models elsevier all rights reserved»\n",
      "\n"
     ]
    }
   ],
   "source": [
    "# Test the model\n",
    "import random\n",
    "\n",
    "# Pick a random document from the test corpus and infer a vector from the model\n",
    "doc_id = random.randint(0, 3000)\n",
    "inferred_vector = model.infer_vector(note_list[doc_id])\n",
    "sims = model.dv.most_similar([inferred_vector], topn=len(model.dv))\n",
    "\n",
    "# Compare and print the most/median/least similar documents from the train corpus\n",
    "print('Test Document ({}): «{}»\\n'.format(doc_id, ' '.join(note_list[doc_id])))\n",
    "print(u'SIMILAR/DISSIMILAR DOCS PER MODEL %s:\\n' % model)\n",
    "for label, index in [('MOST', 0), ('MEDIAN', len(sims)//2), ('LEAST', len(sims) - 1)]:\n",
    "    print(u'%s %s: «%s»\\n' % (label, sims[index], ' '.join(documents[sims[index][0]].words)))\n"
   ]
  },
  {
   "cell_type": "code",
   "execution_count": null,
   "id": "ce75d036",
   "metadata": {},
   "outputs": [],
   "source": [
    "# Function to extract linked notes given a given notes\n",
    "#\n",
    "# Params:\n",
    "# @current_note: String.  The path to the new note that I intend to find linked notes \n",
    "# @existing_notes: List[String]. A list of the paths to all existing notes, among which\n",
    "#                  relevant notes are being searched.\n",
    "#\n",
    "# Return: List[String]. A list of paths to the linked notes.\n",
    "def get_linked_notes(current_note : String, existing_notes : List[String]) -> List[String] = {\n",
    "    #… I will fill out here\n",
    "    return aList_of_linked_notes\n",
    "}\n",
    "\n"
   ]
  }
 ],
 "metadata": {
  "kernelspec": {
   "display_name": "env",
   "language": "python",
   "name": "python3"
  },
  "language_info": {
   "codemirror_mode": {
    "name": "ipython",
    "version": 3
   },
   "file_extension": ".py",
   "mimetype": "text/x-python",
   "name": "python",
   "nbconvert_exporter": "python",
   "pygments_lexer": "ipython3",
   "version": "3.11.5"
  }
 },
 "nbformat": 4,
 "nbformat_minor": 5
}
