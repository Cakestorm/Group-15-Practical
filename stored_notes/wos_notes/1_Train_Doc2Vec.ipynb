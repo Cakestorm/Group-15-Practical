{
 "cells": [
  {
   "cell_type": "code",
   "execution_count": 26,
   "id": "2e15fd3f",
   "metadata": {},
   "outputs": [
    {
     "name": "stdout",
     "output_type": "stream",
     "text": [
      "Done.\n"
     ]
    }
   ],
   "source": [
    "# Pre-processing Notes\n",
    "import json\n",
    "import time\n",
    "\n",
    "with open('X.txt', 'r') as f:\n",
    "    for i in range(3000):\n",
    "        content = f.readline()\n",
    "        with open('Article '+str(i+1)+'.note', 'w') as f0:\n",
    "            schema = {}\n",
    "            schema[\"title\"] = 'Article '+str(i+1)\n",
    "            schema[\"body\"] = {\"ops\": [{'insert':content}]}\n",
    "            schema[\"text\"] = content\n",
    "            schema[\"updatedAt\"] = int(time.time())\n",
    "            f0.write(json.dumps(schema))\n",
    "print(\"Done.\")"
   ]
  },
  {
   "cell_type": "markdown",
   "id": "b73cf0af",
   "metadata": {},
   "source": [
    "## Doc2Vec"
   ]
  },
  {
   "cell_type": "code",
   "execution_count": 27,
   "id": "2aa30162",
   "metadata": {},
   "outputs": [],
   "source": [
    "# Training Doc2Vec\n",
    "import json\n",
    "import gensim\n",
    "from gensim.models.doc2vec import Doc2Vec, TaggedDocument"
   ]
  },
  {
   "cell_type": "code",
   "execution_count": 28,
   "id": "6b402890",
   "metadata": {},
   "outputs": [
    {
     "name": "stdout",
     "output_type": "stream",
     "text": [
      "3000\n"
     ]
    }
   ],
   "source": [
    "# Extract the body of notes and preprocess the corpus\n",
    "from os import listdir\n",
    "from os.path import isfile, join\n",
    "\n",
    "def is_note_file(path):\n",
    "    if not isfile(path):\n",
    "        return False\n",
    "    if path.split('.')[-1] != 'note':\n",
    "        return False\n",
    "    return True\n",
    "\n",
    "def read_corpus():\n",
    "    note_list = []\n",
    "    list_dir = listdir()\n",
    "    pth_list = [\"Article {}.note\".format(str(i)) for i in range(1,3001)]#[file for file in list_dir if is_note_file(file)]\n",
    "        \n",
    "    for path in pth_list:\n",
    "        with open(path, 'r') as f0:\n",
    "            content = f0.read()\n",
    "            body = json.loads(content)['text']\n",
    "            \n",
    "            # Preprocess the text\n",
    "            tokens = gensim.utils.simple_preprocess(body)\n",
    "            note_list.append(tokens)\n",
    "    return note_list\n",
    "\n",
    "note_list = read_corpus()\n",
    "print(len(note_list))"
   ]
  },
  {
   "cell_type": "code",
   "execution_count": 29,
   "id": "b9517da6",
   "metadata": {},
   "outputs": [
    {
     "name": "stdout",
     "output_type": "stream",
     "text": [
      "TaggedDocument<['universal', 'feature', 'of', 'the', 'replication', 'of', 'positive', 'strand', 'rna', 'viruses', 'is', 'the', 'association', 'with', 'intracellular', 'membranes', 'carnation', 'italian', 'ringspot', 'virus', 'cirv', 'replication', 'in', 'plants', 'occurs', 'in', 'vesicles', 'derived', 'from', 'the', 'mitochondrial', 'outer', 'membrane', 'the', 'product', 'encoded', 'by', 'cirv', 'orf', 'is', 'required', 'for', 'targeting', 'the', 'virus', 'replication', 'complex', 'to', 'the', 'outer', 'mitochondrial', 'membrane', 'both', 'in', 'plant', 'and', 'yeast', 'cells', 'here', 'the', 'yeast', 'saccharomyces', 'cerevisiae', 'was', 'used', 'as', 'model', 'host', 'to', 'study', 'the', 'effect', 'of', 'cirv', 'on', 'cell', 'survival', 'and', 'death', 'it', 'was', 'shown', 'that', 'does', 'not', 'promote', 'cell', 'death', 'but', 'decreases', 'cell', 'growth', 'rate', 'in', 'addition', 'changed', 'the', 'nature', 'of', 'acetic', 'acid', 'induced', 'cell', 'death', 'in', 'yeast', 'by', 'increasing', 'the', 'number', 'of', 'cells', 'dying', 'by', 'necrosis', 'with', 'concomitant', 'decrease', 'of', 'the', 'number', 'of', 'cells', 'dying', 'by', 'programmed', 'cell', 'death', 'as', 'judged', 'by', 'measurements', 'of', 'externalization', 'the', 'tight', 'association', 'of', 'to', 'membranes', 'was', 'not', 'affected', 'by', 'acetic', 'acid', 'treatment', 'thus', 'confirming', 'the', 'peculiar', 'and', 'independent', 'interaction', 'of', 'cirv', 'with', 'mitochondria', 'in', 'yeast', 'this', 'work', 'proved', 'yeast', 'as', 'an', 'invaluable', 'model', 'organism', 'to', 'study', 'both', 'the', 'mitochondrial', 'determinants', 'of', 'the', 'type', 'of', 'cell', 'death', 'in', 'response', 'to', 'stress', 'and', 'the', 'molecular', 'pathogenesis', 'of', 'rna', 'viruses', 'elsevier', 'ireland', 'ltd', 'all', 'rights', 'reserved'], [2]>\n"
     ]
    }
   ],
   "source": [
    "documents = [TaggedDocument(doc, [i]) for i, doc in enumerate(note_list)]\n",
    "print(documents[2])\n",
    "\n",
    "model = Doc2Vec(vector_size=200, min_count=2, epochs=50)"
   ]
  },
  {
   "cell_type": "code",
   "execution_count": 30,
   "id": "d80ffec0",
   "metadata": {},
   "outputs": [
    {
     "name": "stdout",
     "output_type": "stream",
     "text": [
      "Word 'algorithm' appeared 152 times in the training corpus.\n"
     ]
    }
   ],
   "source": [
    "# Building model's vocabulary\n",
    "model.build_vocab(documents)\n",
    "\n",
    "print(f\"Word 'algorithm' appeared {model.wv.get_vecattr('algorithm', 'count')} times in the training corpus.\")"
   ]
  },
  {
   "cell_type": "code",
   "execution_count": 31,
   "id": "e5f35028",
   "metadata": {},
   "outputs": [
    {
     "name": "stdout",
     "output_type": "stream",
     "text": [
      "Done.\n"
     ]
    }
   ],
   "source": [
    "# Training the model\n",
    "model.train(documents, total_examples=model.corpus_count, epochs=model.epochs)\n",
    "print(\"Done.\")"
   ]
  },
  {
   "cell_type": "code",
   "execution_count": 32,
   "id": "628b2c1a",
   "metadata": {},
   "outputs": [],
   "source": [
    "# Save the model\n",
    "#from gensim.test.utils import get_tmpfile\n",
    "#fname = get_tmpfile(\"Trained_Embedding_Model\")\n",
    "model.save(\"Trained_Embedding_Model\")"
   ]
  },
  {
   "cell_type": "code",
   "execution_count": 33,
   "id": "c5664d54",
   "metadata": {},
   "outputs": [
    {
     "name": "stdout",
     "output_type": "stream",
     "text": [
      "['dichloropropane', 'dcp', 'and', 'dichloromethane', 'dcm', 'are', 'possible', 'causative', 'agents', 'associated', 'with', 'the', 'development', 'of', 'in', 'employees', 'working', 'in', 'printing', 'plant', 'in', 'osaka', 'japan', 'however', 'few', 'reports', 'have', 'demonstrated', 'an', 'association', 'between', 'these', 'agents', 'and', 'in', 'rodent', 'carcinogenicity', 'studies', 'moreover', 'the', 'combined', 'effects', 'of', 'these', 'compounds', 'have', 'not', 'been', 'fully', 'elucidated', 'in', 'the', 'present', 'study', 'we', 'evaluated', 'the', 'in', 'vivo', 'mutagenicity', 'of', 'dcp', 'and', 'dcm', 'alone', 'or', 'combined', 'in', 'the', 'livers', 'of', 'gpt', 'delta', 'rats', 'six', 'week', 'old', 'male', 'gpt', 'delta', 'rats', 'were', 'treated', 'with', 'dcp', 'dcm', 'or', 'dcp', 'dcm', 'by', 'oral', 'administration', 'for', 'weeks', 'at', 'the', 'dose', 'mgkg', 'body', 'weight', 'dcp', 'and', 'mgkg', 'body', 'weight', 'dcm', 'used', 'in', 'the', 'carcinogenesis', 'study', 'performed', 'by', 'the', 'national', 'toxicology', 'program', 'in', 'vivo', 'mutagenicity', 'was', 'analyzed', 'by', 'gpt', 'mutation', 'spi', 'assays', 'in', 'the', 'livers', 'of', 'rats', 'in', 'addition', 'gene', 'and', 'protein', 'expression', 'of', 'cyp', 'and', 'gstt', 'the', 'major', 'enzymes', 'responsible', 'for', 'the', 'genotoxic', 'effects', 'of', 'dcp', 'and', 'dcm', 'were', 'analyzed', 'by', 'quantitative', 'polymerase', 'chain', 'reaction', 'and', 'western', 'blotting', 'gpt', 'and', 'spi', 'mutation', 'frequencies', 'were', 'not', 'increased', 'by', 'dcp', 'and', 'or', 'dcm', 'in', 'any', 'group', 'additionally', 'there', 'were', 'no', 'significant', 'changes', 'in', 'the', 'gene', 'and', 'protein', 'expression', 'of', 'cyp', 'and', 'gstt', 'in', 'any', 'group', 'these', 'results', 'indicated', 'that', 'dcp', 'dcm', 'and', 'dcp', 'dcm', 'had', 'no', 'significant', 'impact', 'on', 'mutagenicity', 'in', 'the', 'livers', 'of', 'gpt', 'delta', 'rats', 'under', 'our', 'experimental', 'conditions', 'copyright', 'john', 'wiley', 'sons', 'ltd']\n",
      "(200,)\n"
     ]
    }
   ],
   "source": [
    "# Now the model can output vectors\n",
    "model = Doc2Vec.load(\"Trained_Embedding_Model\")\n",
    "vector = model.infer_vector(documents[3].words)\n",
    "print(documents[3].words)\n",
    "print(vector.shape)"
   ]
  },
  {
   "cell_type": "code",
   "execution_count": 34,
   "id": "68d45d02",
   "metadata": {},
   "outputs": [
    {
     "name": "stdout",
     "output_type": "stream",
     "text": [
      "Done.\n"
     ]
    }
   ],
   "source": [
    "# Save the embeddings of existing files\n",
    "model = Doc2Vec.load(\"Trained_Embedding_Model\")\n",
    "\n",
    "list_dir = listdir()\n",
    "pth_list=[file for file in list_dir if is_note_file(file)]\n",
    "        \n",
    "for i in range(1,3001):\n",
    "    with open(\"Article \"+str(i)+\".note\", 'r') as f:\n",
    "        content = f.read()\n",
    "        content = json.loads(content)\n",
    "        embedding = model.infer_vector(documents[i-1].words)\n",
    "        content['embeddings'] = list(embedding.astype('str'))\n",
    "    \n",
    "    with open(\"Article \"+str(i)+\".note\", 'w') as f:\n",
    "        f.write(json.dumps(content))\n",
    "print(\"Done.\")"
   ]
  },
  {
   "cell_type": "markdown",
   "id": "2d54601c",
   "metadata": {},
   "source": [
    "### Accessing the Model"
   ]
  },
  {
   "cell_type": "code",
   "execution_count": 22,
   "id": "81fefa2b",
   "metadata": {},
   "outputs": [],
   "source": [
    "# Assessing the model\n",
    "ranks = []\n",
    "second_ranks = []\n",
    "for doc_id in range(len(documents)):\n",
    "    inferred_vector = model.infer_vector(documents[doc_id].words)\n",
    "    sims = model.dv.most_similar([inferred_vector], topn=len(model.dv))\n",
    "    rank = [docid for docid, sim in sims].index(doc_id)\n",
    "    ranks.append(rank)\n",
    "\n",
    "    second_ranks.append(sims[1])"
   ]
  },
  {
   "cell_type": "code",
   "execution_count": 23,
   "id": "cca48e41",
   "metadata": {},
   "outputs": [
    {
     "name": "stdout",
     "output_type": "stream",
     "text": [
      "Counter({0: 2998, 1: 2})\n"
     ]
    }
   ],
   "source": [
    "import collections\n",
    "\n",
    "counter = collections.Counter(ranks)\n",
    "print(counter)"
   ]
  },
  {
   "cell_type": "code",
   "execution_count": 24,
   "id": "a4858a27",
   "metadata": {},
   "outputs": [
    {
     "name": "stdout",
     "output_type": "stream",
     "text": [
      "Document (2999): «ge malignancies make up significant and growing segment of newly diagnosed cancers approximately of patients who have ge cancers die within years of diagnosis which means that effective treatments for these malignancies need to be found currently targeted therapies have minimal role in this disease group intensive study of the molecular biology of ge cancers is relatively new and ongoing venture but it has already led to significant increase in our understanding of these malignancies this understanding although still limited has the potential to enhance our ability to develop targeted therapies in conjunction with the ability to identify actionable gene mutations and perform genomic profiling to predict drug resistance several cell surface growth factor receptors have been found to play prominent role in ge cancer cell signaling this discovery has led to the approval of agents within the last few years trastuzumab an anti human epidermal growth factor receptor her monoclonal antibody used in the first line treatment of her positive ge cancers and ramucirumab an anti vascular endothelial growth factor receptor vegfr monoclonal antibody that is currently used in later lines of therapy this review discusses the current state of molecular testing in ge cancers along with the known molecular biology and current and investigational treatments the development of trastuzumab and ramucirumab represents significant advance in our ability to make use of ge tumor molecular profiles as our understanding of the impact of molecular aberrations on drug effectiveness and disease outcomes increases we anticipate improved therapy for patients with ge cancers»\n",
      "\n",
      "SIMILAR/DISSIMILAR DOCS PER MODEL Doc2Vec<dm/m,d200,n5,w5,mc2,s0.001,t3>:\n",
      "\n",
      "MOST (2999, 0.9270771741867065): «ge malignancies make up significant and growing segment of newly diagnosed cancers approximately of patients who have ge cancers die within years of diagnosis which means that effective treatments for these malignancies need to be found currently targeted therapies have minimal role in this disease group intensive study of the molecular biology of ge cancers is relatively new and ongoing venture but it has already led to significant increase in our understanding of these malignancies this understanding although still limited has the potential to enhance our ability to develop targeted therapies in conjunction with the ability to identify actionable gene mutations and perform genomic profiling to predict drug resistance several cell surface growth factor receptors have been found to play prominent role in ge cancer cell signaling this discovery has led to the approval of agents within the last few years trastuzumab an anti human epidermal growth factor receptor her monoclonal antibody used in the first line treatment of her positive ge cancers and ramucirumab an anti vascular endothelial growth factor receptor vegfr monoclonal antibody that is currently used in later lines of therapy this review discusses the current state of molecular testing in ge cancers along with the known molecular biology and current and investigational treatments the development of trastuzumab and ramucirumab represents significant advance in our ability to make use of ge tumor molecular profiles as our understanding of the impact of molecular aberrations on drug effectiveness and disease outcomes increases we anticipate improved therapy for patients with ge cancers»\n",
      "\n",
      "SECOND-MOST (952, 0.5432428121566772): «precision medicine is new strategy that aims at preventing and treating human diseases by focusing on individual variations in people genes environment and lifestyle precision medicine has been used for cancer diagnosis and treatment and shows evident clinical efficacy rapid developments in molecular biology genetics and sequencing technologies as well as computational technology has enabled the establishment of big data such as the human genome project which provides basis for precision medicine head and neck squamous cell carcinoma hnscc is an aggressive cancer with high incidence rate and low survival rate current therapies are often aggressive and carry considerable side effects much research now indicates that precision medicine can be used for hnscc and may achieve improved results from this perspective we present an overview of the current status potential strategies and challenges of precision medicine in hnscc we focus on targeted therapy based on cell the surface signaling receptors epidermal growth factor receptor egfr vascular endothelial growth factor vegf and human epidermal growth factor receptor her and on the pi akt mtor jak stat and ras raf mek erk cellular signaling pathways gene therapy for the treatment of hnscc is also discussed»\n",
      "\n",
      "MEDIAN (1435, 0.16753509640693665): «in this work the low voltage current feedback operational amplifier cfoa with bulk driven quasi floating gate qfg transistor and bulk driven quasi floating gate qfg transistor techniques to operate under low supply voltage is proposed the proposed circuits were design based on the voltage follower and current follower while the output stages are designed base on the voltage follower the cfoa circuits are designed by using the mu cmos technology and supply voltage operated simulation results shows output impedance of cfoa with bulk driven quasi floating gate qfg mos transistor and bulk driven quasi floating gate bd qfg mos transistor are omega db omega db and omega db respectively finally the proposed bd qfg and bd qfg mos transistors techniques can used before the ultra low voltage and low power cfoa circuits»\n",
      "\n",
      "LEAST (2960, -0.09544805437326431): «this paper pays attention to predicting the nonlinear bending behaviors of functionally graded materials fgm infinite cylindrical shallow shells with two parameter elastic foundation by using two step perturbation method the shells are subjected to uniform temperature rise and temperature dependency of the constituents is also taken into account two ends of the shells are assumed to be clamped or pinned and in plane boundary conditions are immovable the governing equations are derived based on physical neutral surface concept and high order shear deformation theory the explicit expressions between the transverse load and the deflection are obtained by perturbation method in numerical examples some comparisons are shown to verify the correctness of the present research and solution method it can be concluded that fgm cylindrical shallow shells subjected to uniform bending loadings will bring about snap through buckling and jump changes and the foundation can enhance the stability of the shells elsevier ltd all rights reserved»\n",
      "\n"
     ]
    }
   ],
   "source": [
    "print('Document ({}): «{}»\\n'.format(doc_id, ' '.join(documents[doc_id].words)))\n",
    "print(u'SIMILAR/DISSIMILAR DOCS PER MODEL %s:\\n' % model)\n",
    "for label, index in [('MOST', 0), ('SECOND-MOST', 1), ('MEDIAN', len(sims)//2), ('LEAST', len(sims) - 1)]:\n",
    "    print(u'%s %s: «%s»\\n' % (label, sims[index], ' '.join(documents[sims[index][0]].words)))\n"
   ]
  },
  {
   "cell_type": "code",
   "execution_count": 25,
   "id": "5b1738b2",
   "metadata": {},
   "outputs": [
    {
     "name": "stdout",
     "output_type": "stream",
     "text": [
      "Test Document (1957): «fungi play pivotal role in the regulation of insect populations in nature and representative species have been developed as promising environmentally friendly recent advances in the genome biology of insect pathogenic fungi have revealed genomic features associated with fungal adaptation to insect hosts and different host ranges as well as the evolutionary relationships between insect and noninsect pathogens by using species in the beauveria and metarhizium genera as models molecular biology studies have revealed the genes that function in fungus insect interactions and thereby contribute to fungal virulence taken together with efforts toward genetic improvement of fungal virulence and stress resistance knowledge of fungi will potentiate cost effective applications of for pest control in the field relative to our advanced insights into the mechanisms of fungal pathogenesis in plants and humans future studies will be necessary to unravel the gene for gene relationships in fungus insect interactive models»\n",
      "\n",
      "SIMILAR/DISSIMILAR DOCS PER MODEL Doc2Vec<dm/m,d200,n5,w5,mc2,s0.001,t3>:\n",
      "\n",
      "MOST (1957, 0.9288627505302429): «fungi play pivotal role in the regulation of insect populations in nature and representative species have been developed as promising environmentally friendly recent advances in the genome biology of insect pathogenic fungi have revealed genomic features associated with fungal adaptation to insect hosts and different host ranges as well as the evolutionary relationships between insect and noninsect pathogens by using species in the beauveria and metarhizium genera as models molecular biology studies have revealed the genes that function in fungus insect interactions and thereby contribute to fungal virulence taken together with efforts toward genetic improvement of fungal virulence and stress resistance knowledge of fungi will potentiate cost effective applications of for pest control in the field relative to our advanced insights into the mechanisms of fungal pathogenesis in plants and humans future studies will be necessary to unravel the gene for gene relationships in fungus insect interactive models»\n",
      "\n",
      "MEDIAN (1395, 0.19444163143634796): «aimto investigate the effect of simvastatin on lps stimulated inflammatory cytokines cell adhesion molecules and nuclear factor nf transcription factors in human dental pulp cells hdpcs methodologythe effect of lps and simvastatin on human dental pulp cell hdpcs viability was measured using dimethylthiazol yl bromide mtt assay the expression of inflammatory cytokines and cell adhesion molecules was evaluated by reverse transcription polymerase chain reaction rt pcr enzyme linked immunosorbent assay elisa and western blot analysis nf transcription factors were evaluated by western blot analysis statistical analysis was performed with analysis of variance anova resultsthe viability of cells exposed to different concentrations of coli lps gingivalis lps and simvastatin was not significantly different compared with that of control cells lps significantly increased interleukin il and il mrna expression and vascular cell adhesion molecule vcam and intercellular adhesion molecule icam protein expression in hdpcs treatment with simvastatin significantly attenuated lps stimulated production of il il vcam and icam treatment with simvastatin decreased lps induced expression of and phosphorylation of ib and also significantly decreased the phosphorylation of and ib in the cytoplasm and the level of in the nucleus has suppressing effect on lps induced inflammatory cytokine cell adhesion molecules and nf transcription factors in hdpcs therefore simvastatin might be useful candidate as pulp capping agent in vital pulp therapy»\n",
      "\n",
      "LEAST (1699, -0.07874858379364014): «social jet lag is term describing misalignment between social and biological times in this article it is argued that the currently used formula for social jet lag captures not only this misalignment but also sleep debt resulting from sleep deprivation during workdays it is proposed to adopt the sleep corrected formula for social jet lag which takes the form of the difference between the sleep onset on free days and workdays in the case of subjects with longer sleep and later or equal sleep onset on free days compared to workdays it takes the form of the difference between the sleep offset on free days and workdays for subjects with longer sleep and earlier or equal sleep offset on workdays compared to free days»\n",
      "\n"
     ]
    }
   ],
   "source": [
    "# Test the model\n",
    "import random\n",
    "\n",
    "# Pick a random document from the test corpus and infer a vector from the model\n",
    "doc_id = random.randint(0, 3000)\n",
    "inferred_vector = model.infer_vector(note_list[doc_id])\n",
    "sims = model.dv.most_similar([inferred_vector], topn=len(model.dv))\n",
    "\n",
    "# Compare and print the most/median/least similar documents from the train corpus\n",
    "print('Test Document ({}): «{}»\\n'.format(doc_id, ' '.join(note_list[doc_id])))\n",
    "print(u'SIMILAR/DISSIMILAR DOCS PER MODEL %s:\\n' % model)\n",
    "for label, index in [('MOST', 0), ('MEDIAN', len(sims)//2), ('LEAST', len(sims) - 1)]:\n",
    "    print(u'%s %s: «%s»\\n' % (label, sims[index], ' '.join(documents[sims[index][0]].words)))\n"
   ]
  },
  {
   "cell_type": "code",
   "execution_count": null,
   "id": "ce75d036",
   "metadata": {},
   "outputs": [],
   "source": [
    "# Function to extract linked notes given a given notes\n",
    "#\n",
    "# Params:\n",
    "# @current_note: String.  The path to the new note that I intend to find linked notes \n",
    "# @existing_notes: List[String]. A list of the paths to all existing notes, among which\n",
    "#                  relevant notes are being searched.\n",
    "#\n",
    "# Return: List[String]. A list of paths to the linked notes.\n",
    "def get_linked_notes(current_note : String, existing_notes : List[String]) -> List[String] = {\n",
    "    #… I will fill out here\n",
    "    return aList_of_linked_notes\n",
    "}\n",
    "\n"
   ]
  }
 ],
 "metadata": {
  "kernelspec": {
   "display_name": "env",
   "language": "python",
   "name": "python3"
  },
  "language_info": {
   "codemirror_mode": {
    "name": "ipython",
    "version": 3
   },
   "file_extension": ".py",
   "mimetype": "text/x-python",
   "name": "python",
   "nbconvert_exporter": "python",
   "pygments_lexer": "ipython3",
   "version": "3.11.5"
  }
 },
 "nbformat": 4,
 "nbformat_minor": 5
}
